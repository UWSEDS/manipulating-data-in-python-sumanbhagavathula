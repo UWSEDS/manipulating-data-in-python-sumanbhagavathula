{
  "cells": [
    {
      "metadata": {},
      "cell_type": "markdown",
      "source": "### 1. Reading the CSV file into a pandas dataframe. "
    },
    {
      "metadata": {
        "trusted": true
      },
      "cell_type": "code",
      "source": "import pandas as pd\n\ndata = pd.read_csv(\"../data/Fremont_Bridge_Hourly_Bicycle_Counts_by_Month_October_2012_to_present.csv\")",
      "execution_count": 1,
      "outputs": []
    },
    {
      "metadata": {
        "trusted": true
      },
      "cell_type": "code",
      "source": "data.head() #to validate the data that has been read into the session.",
      "execution_count": 2,
      "outputs": [
        {
          "output_type": "execute_result",
          "execution_count": 2,
          "data": {
            "text/html": "<div>\n<style scoped>\n    .dataframe tbody tr th:only-of-type {\n        vertical-align: middle;\n    }\n\n    .dataframe tbody tr th {\n        vertical-align: top;\n    }\n\n    .dataframe thead th {\n        text-align: right;\n    }\n</style>\n<table border=\"1\" class=\"dataframe\">\n  <thead>\n    <tr style=\"text-align: right;\">\n      <th></th>\n      <th>Date</th>\n      <th>Fremont Bridge East Sidewalk</th>\n      <th>Fremont Bridge West Sidewalk</th>\n    </tr>\n  </thead>\n  <tbody>\n    <tr>\n      <th>0</th>\n      <td>03/31/2019 11:00:00 PM</td>\n      <td>6.0</td>\n      <td>10.0</td>\n    </tr>\n    <tr>\n      <th>1</th>\n      <td>03/31/2019 10:00:00 PM</td>\n      <td>7.0</td>\n      <td>14.0</td>\n    </tr>\n    <tr>\n      <th>2</th>\n      <td>03/31/2019 09:00:00 PM</td>\n      <td>18.0</td>\n      <td>15.0</td>\n    </tr>\n    <tr>\n      <th>3</th>\n      <td>03/31/2019 08:00:00 PM</td>\n      <td>26.0</td>\n      <td>31.0</td>\n    </tr>\n    <tr>\n      <th>4</th>\n      <td>03/31/2019 07:00:00 PM</td>\n      <td>30.0</td>\n      <td>58.0</td>\n    </tr>\n  </tbody>\n</table>\n</div>",
            "text/plain": "                     Date  Fremont Bridge East Sidewalk  \\\n0  03/31/2019 11:00:00 PM                           6.0   \n1  03/31/2019 10:00:00 PM                           7.0   \n2  03/31/2019 09:00:00 PM                          18.0   \n3  03/31/2019 08:00:00 PM                          26.0   \n4  03/31/2019 07:00:00 PM                          30.0   \n\n   Fremont Bridge West Sidewalk  \n0                          10.0  \n1                          14.0  \n2                          15.0  \n3                          31.0  \n4                          58.0  "
          },
          "metadata": {}
        }
      ]
    },
    {
      "metadata": {},
      "cell_type": "markdown",
      "source": "###  2. Add columns to the dataframe containing: \n#### The total (East + West) bicycle count\n#### The hour of the day\n#### The year"
    },
    {
      "metadata": {
        "trusted": true
      },
      "cell_type": "code",
      "source": "data['Total (East + West) bicycle count'] = data['Fremont Bridge East Sidewalk'] + data['Fremont Bridge West Sidewalk']",
      "execution_count": 3,
      "outputs": []
    },
    {
      "metadata": {
        "trusted": true
      },
      "cell_type": "code",
      "source": "data['Hour of the day'] = pd.to_datetime(data['Date']).dt.hour",
      "execution_count": 4,
      "outputs": []
    },
    {
      "metadata": {
        "trusted": true
      },
      "cell_type": "code",
      "source": "data['year'] = pd.to_datetime(data['Date']).dt.year",
      "execution_count": 5,
      "outputs": []
    },
    {
      "metadata": {
        "trusted": true
      },
      "cell_type": "code",
      "source": "data.head() # to validate the new columns that have been added",
      "execution_count": 6,
      "outputs": [
        {
          "output_type": "execute_result",
          "execution_count": 6,
          "data": {
            "text/html": "<div>\n<style scoped>\n    .dataframe tbody tr th:only-of-type {\n        vertical-align: middle;\n    }\n\n    .dataframe tbody tr th {\n        vertical-align: top;\n    }\n\n    .dataframe thead th {\n        text-align: right;\n    }\n</style>\n<table border=\"1\" class=\"dataframe\">\n  <thead>\n    <tr style=\"text-align: right;\">\n      <th></th>\n      <th>Date</th>\n      <th>Fremont Bridge East Sidewalk</th>\n      <th>Fremont Bridge West Sidewalk</th>\n      <th>Total (East + West) bicycle count</th>\n      <th>Hour of the day</th>\n      <th>year</th>\n    </tr>\n  </thead>\n  <tbody>\n    <tr>\n      <th>0</th>\n      <td>03/31/2019 11:00:00 PM</td>\n      <td>6.0</td>\n      <td>10.0</td>\n      <td>16.0</td>\n      <td>23</td>\n      <td>2019</td>\n    </tr>\n    <tr>\n      <th>1</th>\n      <td>03/31/2019 10:00:00 PM</td>\n      <td>7.0</td>\n      <td>14.0</td>\n      <td>21.0</td>\n      <td>22</td>\n      <td>2019</td>\n    </tr>\n    <tr>\n      <th>2</th>\n      <td>03/31/2019 09:00:00 PM</td>\n      <td>18.0</td>\n      <td>15.0</td>\n      <td>33.0</td>\n      <td>21</td>\n      <td>2019</td>\n    </tr>\n    <tr>\n      <th>3</th>\n      <td>03/31/2019 08:00:00 PM</td>\n      <td>26.0</td>\n      <td>31.0</td>\n      <td>57.0</td>\n      <td>20</td>\n      <td>2019</td>\n    </tr>\n    <tr>\n      <th>4</th>\n      <td>03/31/2019 07:00:00 PM</td>\n      <td>30.0</td>\n      <td>58.0</td>\n      <td>88.0</td>\n      <td>19</td>\n      <td>2019</td>\n    </tr>\n  </tbody>\n</table>\n</div>",
            "text/plain": "                     Date  Fremont Bridge East Sidewalk  \\\n0  03/31/2019 11:00:00 PM                           6.0   \n1  03/31/2019 10:00:00 PM                           7.0   \n2  03/31/2019 09:00:00 PM                          18.0   \n3  03/31/2019 08:00:00 PM                          26.0   \n4  03/31/2019 07:00:00 PM                          30.0   \n\n   Fremont Bridge West Sidewalk  Total (East + West) bicycle count  \\\n0                          10.0                               16.0   \n1                          14.0                               21.0   \n2                          15.0                               33.0   \n3                          31.0                               57.0   \n4                          58.0                               88.0   \n\n   Hour of the day  year  \n0               23  2019  \n1               22  2019  \n2               21  2019  \n3               20  2019  \n4               19  2019  "
          },
          "metadata": {}
        }
      ]
    },
    {
      "metadata": {},
      "cell_type": "markdown",
      "source": "### 3. Create a dataframe with the subset of data from the year 2016"
    },
    {
      "metadata": {
        "trusted": true
      },
      "cell_type": "code",
      "source": "# Create a new dataframe with just the data from 2016\ndata_2016 = data[data['year'] == 2016]",
      "execution_count": 7,
      "outputs": []
    },
    {
      "metadata": {
        "trusted": true
      },
      "cell_type": "code",
      "source": "# Print the first few rows to quickly validate the result\ndata_2016.head()",
      "execution_count": 8,
      "outputs": [
        {
          "output_type": "execute_result",
          "execution_count": 8,
          "data": {
            "text/html": "<div>\n<style scoped>\n    .dataframe tbody tr th:only-of-type {\n        vertical-align: middle;\n    }\n\n    .dataframe tbody tr th {\n        vertical-align: top;\n    }\n\n    .dataframe thead th {\n        text-align: right;\n    }\n</style>\n<table border=\"1\" class=\"dataframe\">\n  <thead>\n    <tr style=\"text-align: right;\">\n      <th></th>\n      <th>Date</th>\n      <th>Fremont Bridge East Sidewalk</th>\n      <th>Fremont Bridge West Sidewalk</th>\n      <th>Total (East + West) bicycle count</th>\n      <th>Hour of the day</th>\n      <th>year</th>\n    </tr>\n  </thead>\n  <tbody>\n    <tr>\n      <th>19680</th>\n      <td>12/31/2016 11:00:00 PM</td>\n      <td>4.0</td>\n      <td>4.0</td>\n      <td>8.0</td>\n      <td>23</td>\n      <td>2016</td>\n    </tr>\n    <tr>\n      <th>19681</th>\n      <td>12/31/2016 10:00:00 PM</td>\n      <td>7.0</td>\n      <td>8.0</td>\n      <td>15.0</td>\n      <td>22</td>\n      <td>2016</td>\n    </tr>\n    <tr>\n      <th>19682</th>\n      <td>12/31/2016 09:00:00 PM</td>\n      <td>4.0</td>\n      <td>6.0</td>\n      <td>10.0</td>\n      <td>21</td>\n      <td>2016</td>\n    </tr>\n    <tr>\n      <th>19683</th>\n      <td>12/31/2016 08:00:00 PM</td>\n      <td>3.0</td>\n      <td>6.0</td>\n      <td>9.0</td>\n      <td>20</td>\n      <td>2016</td>\n    </tr>\n    <tr>\n      <th>19684</th>\n      <td>12/31/2016 07:00:00 PM</td>\n      <td>6.0</td>\n      <td>4.0</td>\n      <td>10.0</td>\n      <td>19</td>\n      <td>2016</td>\n    </tr>\n  </tbody>\n</table>\n</div>",
            "text/plain": "                         Date  Fremont Bridge East Sidewalk  \\\n19680  12/31/2016 11:00:00 PM                           4.0   \n19681  12/31/2016 10:00:00 PM                           7.0   \n19682  12/31/2016 09:00:00 PM                           4.0   \n19683  12/31/2016 08:00:00 PM                           3.0   \n19684  12/31/2016 07:00:00 PM                           6.0   \n\n       Fremont Bridge West Sidewalk  Total (East + West) bicycle count  \\\n19680                           4.0                                8.0   \n19681                           8.0                               15.0   \n19682                           6.0                               10.0   \n19683                           6.0                                9.0   \n19684                           4.0                               10.0   \n\n       Hour of the day  year  \n19680               23  2016  \n19681               22  2016  \n19682               21  2016  \n19683               20  2016  \n19684               19  2016  "
          },
          "metadata": {}
        }
      ]
    },
    {
      "metadata": {},
      "cell_type": "markdown",
      "source": "### 4. Use pandas + matplotlib to plot the counts by hour. (i.e. hour of the day on the x-axis, total daily counts on the y-axis) "
    },
    {
      "metadata": {
        "trusted": true
      },
      "cell_type": "code",
      "source": "from matplotlib import pyplot as plt\n\n%matplotlib inline\n\nplt.bar('Hour of the day', 'Total (East + West) bicycle count', data = data_2016)\n\nplt.xlabel('Hour of the day')\nplt.ylabel('Total (East + West) bicycle count')\nplt.title('fremont bicycle count by hour')\nplt.grid(True)\nplt.show()",
      "execution_count": 9,
      "outputs": [
        {
          "output_type": "display_data",
          "data": {
            "image/png": "[encoded data removed]",
            "text/plain": "<Figure size 432x288 with 1 Axes>"
          },
          "metadata": {
            "needs_background": "light"
          }
        }
      ]
    },
    {
      "metadata": {},
      "cell_type": "markdown",
      "source": "### 5. Use pandas to determine what is (on average) the busiest hour of the day"
    },
    {
      "metadata": {
        "trusted": true
      },
      "cell_type": "code",
      "source": "# First get the mean for each hour as a series\ndata_2016_hourly_mean_series = data_2016.groupby(['Hour of the day'])['Total (East + West) bicycle count'].mean() ",
      "execution_count": 10,
      "outputs": []
    },
    {
      "metadata": {
        "trusted": true
      },
      "cell_type": "code",
      "source": "# Convert the result to a dataframe\ndata_2016_hourly_mean = pd.DataFrame({'Hour': data_2016_hourly_mean_series.index, 'mean_bicycle_count': data_2016_hourly_mean_series.values})",
      "execution_count": 11,
      "outputs": []
    },
    {
      "metadata": {
        "trusted": true
      },
      "cell_type": "code",
      "source": "# Get the busiest hour\ndata_2016_hourly_mean_busiest_hour = data_2016_hourly_mean[data_2016_hourly_mean['mean_bicycle_count'] == data_2016_hourly_mean['mean_bicycle_count'].max()]",
      "execution_count": 12,
      "outputs": []
    },
    {
      "metadata": {
        "trusted": true
      },
      "cell_type": "code",
      "source": "# Print the result\nprint('The busiest hour of a day is: ' + data_2016_hourly_mean_busiest_hour['Hour'].to_string(index = False) + ':00')",
      "execution_count": 13,
      "outputs": [
        {
          "output_type": "stream",
          "text": "The busiest hour of a day is: 17:00\n",
          "name": "stdout"
        }
      ]
    }
  ],
  "metadata": {
    "kernelspec": {
      "name": "python36",
      "display_name": "Python 3.6",
      "language": "python"
    },
    "language_info": {
      "mimetype": "text/x-python",
      "nbconvert_exporter": "python",
      "name": "python",
      "pygments_lexer": "ipython3",
      "version": "3.6.6",
      "file_extension": ".py",
      "codemirror_mode": {
        "version": 3,
        "name": "ipython"
      }
    }
  },
  "nbformat": 4,
  "nbformat_minor": 2
}